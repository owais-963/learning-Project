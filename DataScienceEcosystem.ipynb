{
  "nbformat": 4,
  "nbformat_minor": 0,
  "metadata": {
    "colab": {
      "provenance": [],
      "authorship_tag": "ABX9TyNZ2LE60sVGt3YSQF7svUD1",
      "include_colab_link": true
    },
    "kernelspec": {
      "name": "python3",
      "display_name": "Python 3"
    },
    "language_info": {
      "name": "python"
    }
  },
  "cells": [
    {
      "cell_type": "markdown",
      "metadata": {
        "id": "view-in-github",
        "colab_type": "text"
      },
      "source": [
        "<a href=\"https://colab.research.google.com/github/owais-963/learning-Project/blob/master/DataScienceEcosystem.ipynb\" target=\"_parent\"><img src=\"https://colab.research.google.com/assets/colab-badge.svg\" alt=\"Open In Colab\"/></a>"
      ]
    },
    {
      "cell_type": "markdown",
      "source": [
        "#Data Science Tools and Ecosystem"
      ],
      "metadata": {
        "id": "e-6QykGq2vP0"
      }
    },
    {
      "cell_type": "markdown",
      "source": [
        "In this notebook, Data Science Tools and Ecosystem are summarized."
      ],
      "metadata": {
        "id": "-gMeULv03e8z"
      }
    },
    {
      "cell_type": "markdown",
      "source": [
        "Some of the popular languages that Data Scientists use are:\n",
        "\n",
        "\n",
        "\n",
        "\n",
        "1.   Python\n",
        "2.   R\n",
        "3.   Java\n",
        "4.   C++\n",
        "\n",
        "\n",
        "\n",
        "\n",
        "\n",
        "\n",
        "\n",
        "\n",
        "\n"
      ],
      "metadata": {
        "id": "d98uLNWP4m3z"
      }
    },
    {
      "cell_type": "markdown",
      "source": [
        "Some of the commonly used libraries used by Data Scientists include:\n",
        "\n",
        "\n",
        "\n",
        "\n",
        "\n",
        "1.    Pnadas\n",
        "2.   Scikit learn\n",
        "3.   Tensorflow\n",
        "4.   Matplotlib\n",
        "5.   seaborn\n",
        "6.   List item\n",
        "\n",
        "\n",
        "\n",
        "\n",
        "\n",
        "\n",
        "\n",
        "\n",
        "\n"
      ],
      "metadata": {
        "id": "q170fcND5Qz6"
      }
    },
    {
      "cell_type": "markdown",
      "source": [
        "Data Science Tools:\n",
        "\n",
        "\n",
        "1.  Python IDLE\n",
        "2.  Jupyter Notebook\n",
        "3.  WEKA\n",
        "\n",
        "\n",
        "\n",
        "\n",
        "\n"
      ],
      "metadata": {
        "id": "iL1uWVts6-I4"
      }
    },
    {
      "cell_type": "markdown",
      "source": [
        "Below are a few examples of evaluating arithmetic expressions in Python:\n",
        "\n",
        "a=(12/3)*4\n",
        "b=4+3-5\n",
        "c=5-3+4"
      ],
      "metadata": {
        "id": "CuQ-o_iP7aMg"
      }
    },
    {
      "cell_type": "code",
      "source": [
        "(3*4)+5\n",
        "#This a simple arithmetic expression to mutiply then add integers"
      ],
      "metadata": {
        "colab": {
          "base_uri": "https://localhost:8080/"
        },
        "id": "1ugwHhbX5otZ",
        "outputId": "b2f3117b-5d35-442c-c7bd-c961e58c93bf"
      },
      "execution_count": null,
      "outputs": [
        {
          "output_type": "execute_result",
          "data": {
            "text/plain": [
              "17"
            ]
          },
          "metadata": {},
          "execution_count": 2
        }
      ]
    },
    {
      "cell_type": "code",
      "source": [
        "(200/60)\n",
        "#This will convert 200 minutes to hours by diving by 60"
      ],
      "metadata": {
        "colab": {
          "base_uri": "https://localhost:8080/"
        },
        "id": "9ZNs_yzO8FFH",
        "outputId": "f76e7bf4-abbd-4059-d39b-545d96b99257"
      },
      "execution_count": null,
      "outputs": [
        {
          "output_type": "execute_result",
          "data": {
            "text/plain": [
              "3.3333333333333335"
            ]
          },
          "metadata": {},
          "execution_count": 3
        }
      ]
    },
    {
      "cell_type": "markdown",
      "source": [
        "Objectives:\n",
        "\n",
        "\n",
        "*   Popular Languages\n",
        "*   Commonly used Library\n",
        "*   Data Science Tools\n",
        "*   Python Expression\n",
        "\n"
      ],
      "metadata": {
        "id": "NSOKrEPB9huH"
      }
    },
    {
      "cell_type": "markdown",
      "source": [
        "## Authors\n",
        "\n",
        "Owais Ali"
      ],
      "metadata": {
        "id": "T8v5Grnz96Fn"
      }
    },
    {
      "cell_type": "code",
      "source": [],
      "metadata": {
        "id": "K0rRh2da-IgG"
      },
      "execution_count": null,
      "outputs": []
    }
  ]
}